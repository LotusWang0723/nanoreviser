{
 "cells": [
  {
   "cell_type": "code",
   "execution_count": 1,
   "metadata": {
    "ExecuteTime": {
     "end_time": "2020-04-15T11:30:07.032947Z",
     "start_time": "2020-04-15T11:30:06.401996Z"
    }
   },
   "outputs": [],
   "source": [
    "import warnings\n",
    "warnings.filterwarnings('ignore')\n",
    "import sys\n",
    "import os\n",
    "import time\n",
    "from distutils.version import LooseVersion\n",
    "import h5py\n",
    "import numpy as np\n",
    "import shutil\n",
    "import logging\n",
    "from configparser import ConfigParser"
   ]
  },
  {
   "cell_type": "code",
   "execution_count": 13,
   "metadata": {
    "ExecuteTime": {
     "end_time": "2020-04-15T11:44:14.739455Z",
     "start_time": "2020-04-15T11:44:14.735336Z"
    }
   },
   "outputs": [],
   "source": [
    "basecall_group='Basecall_1D_000' \n",
    "basecall_subgroup='BaseCalled_template'"
   ]
  },
  {
   "cell_type": "code",
   "execution_count": 39,
   "metadata": {
    "ExecuteTime": {
     "end_time": "2020-04-15T11:55:33.416453Z",
     "start_time": "2020-04-15T11:55:33.404357Z"
    }
   },
   "outputs": [],
   "source": [
    "def extract_fastq(fast5_fn, out_fasta_fn, \n",
    "                  basecall_group='Basecall_1D_000', \n",
    "                  basecall_subgroup='BaseCalled_template'):\n",
    "    fastq = ''\n",
    "    try:\n",
    "        fast5_data = h5py.File(fast5_fn, 'r')\n",
    "    except Exception:\n",
    "        raise NotImplementedError('Error opening file. Likely a corrupted file.')\n",
    "\n",
    "    try:\n",
    "        fastq = fast5_data['/Analyses/' + basecall_group + '/' + basecall_subgroup + '/Fastq'][()]\n",
    "        fastq_result = fastq.decode('utf8')\n",
    "        fastq_result = fastq_result.split('\\n')\n",
    "        bases = fastq_result[1]\n",
    "        qul = fastq_result[3]\n",
    "        assert len(bases)>=14\n",
    "        assert len(bases)==len(qul)\n",
    "        return bases[7:-7], qul[7:-7]\n",
    "    except Exception:\n",
    "        raise NotImplementedError('Error opening file. Likely a corrupted file.')"
   ]
  },
  {
   "cell_type": "code",
   "execution_count": 34,
   "metadata": {
    "ExecuteTime": {
     "end_time": "2020-04-15T11:53:53.460713Z",
     "start_time": "2020-04-15T11:53:53.456281Z"
    }
   },
   "outputs": [],
   "source": [
    "fast5_fn = './unitest/test_data/fast5/ZF_screen28_20170130_FN_MN19061_sequencing_run_sample_id_98490_ch10_read6297_strand.fast5'"
   ]
  },
  {
   "cell_type": "code",
   "execution_count": 35,
   "metadata": {
    "ExecuteTime": {
     "end_time": "2020-04-15T11:53:59.359637Z",
     "start_time": "2020-04-15T11:53:59.354460Z"
    }
   },
   "outputs": [],
   "source": [
    "fast5_fn_sg = 'ZF_screen28_20170130_FN_MN19061_sequencing_run_sample_id_98490_ch10_read6297_strand.fast5'\n",
    "out_fastq_fn = fast5_fn_sg.split('.')[0] + '_out.fastq'"
   ]
  },
  {
   "cell_type": "code",
   "execution_count": 40,
   "metadata": {
    "ExecuteTime": {
     "end_time": "2020-04-15T11:55:37.889539Z",
     "start_time": "2020-04-15T11:55:37.883791Z"
    }
   },
   "outputs": [],
   "source": [
    "bases, qul = extract_fastq(fast5_fn,out_fastq_fn)"
   ]
  },
  {
   "cell_type": "code",
   "execution_count": 41,
   "metadata": {
    "ExecuteTime": {
     "end_time": "2020-04-15T11:55:49.930600Z",
     "start_time": "2020-04-15T11:55:49.923686Z"
    }
   },
   "outputs": [
    {
     "data": {
      "text/plain": [
       "(7530, 7530)"
      ]
     },
     "execution_count": 41,
     "metadata": {},
     "output_type": "execute_result"
    }
   ],
   "source": [
    "len(bases),len(qul)"
   ]
  },
  {
   "cell_type": "code",
   "execution_count": null,
   "metadata": {},
   "outputs": [],
   "source": []
  }
 ],
 "metadata": {
  "kernelspec": {
   "display_name": "Python 3",
   "language": "python",
   "name": "python3"
  },
  "language_info": {
   "codemirror_mode": {
    "name": "ipython",
    "version": 3
   },
   "file_extension": ".py",
   "mimetype": "text/x-python",
   "name": "python",
   "nbconvert_exporter": "python",
   "pygments_lexer": "ipython3",
   "version": "3.6.9"
  },
  "toc": {
   "base_numbering": 1,
   "nav_menu": {},
   "number_sections": true,
   "sideBar": true,
   "skip_h1_title": false,
   "title_cell": "Table of Contents",
   "title_sidebar": "Contents",
   "toc_cell": false,
   "toc_position": {},
   "toc_section_display": true,
   "toc_window_display": false
  }
 },
 "nbformat": 4,
 "nbformat_minor": 2
}
